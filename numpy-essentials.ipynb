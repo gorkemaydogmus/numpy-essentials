{
 "cells": [
  {
   "cell_type": "code",
   "execution_count": 1,
   "id": "58884082",
   "metadata": {},
   "outputs": [],
   "source": [
    "# a python list\n",
    "list = [1, 2, 3]"
   ]
  },
  {
   "cell_type": "code",
   "execution_count": 2,
   "id": "80d24957",
   "metadata": {},
   "outputs": [],
   "source": [
    "import numpy as np"
   ]
  },
  {
   "cell_type": "code",
   "execution_count": 3,
   "id": "f917b6c6",
   "metadata": {},
   "outputs": [],
   "source": [
    "# a numpy array\n",
    "array = np.array([1,2,3])"
   ]
  },
  {
   "cell_type": "markdown",
   "id": "03ea287d",
   "metadata": {},
   "source": [
    "## Differences between Python List and NumPy Array"
   ]
  },
  {
   "cell_type": "code",
   "execution_count": 4,
   "id": "ae814be5",
   "metadata": {},
   "outputs": [],
   "source": [
    "# Both are ordered, mutable, duplicate\n",
    "py_list = [1,1,2,3,3]\n",
    "np_array = np.array([1,1,2,3,3])"
   ]
  },
  {
   "cell_type": "code",
   "execution_count": 5,
   "id": "ad0a136e",
   "metadata": {},
   "outputs": [],
   "source": [
    "# appending possible with lists\n",
    "py_list.append(5)"
   ]
  },
  {
   "cell_type": "code",
   "execution_count": 6,
   "id": "bc326777",
   "metadata": {},
   "outputs": [
    {
     "data": {
      "text/plain": [
       "[1, 1, 2, 3, 3, 5]"
      ]
     },
     "execution_count": 6,
     "metadata": {},
     "output_type": "execute_result"
    }
   ],
   "source": [
    "py_list"
   ]
  },
  {
   "cell_type": "code",
   "execution_count": 7,
   "id": "7a448e0c",
   "metadata": {},
   "outputs": [],
   "source": [
    "# lists can have different types of elements\n",
    "py_list.append('apple')"
   ]
  },
  {
   "cell_type": "code",
   "execution_count": 8,
   "id": "c294383b",
   "metadata": {},
   "outputs": [
    {
     "data": {
      "text/plain": [
       "[1, 1, 2, 3, 3, 5, 'apple']"
      ]
     },
     "execution_count": 8,
     "metadata": {},
     "output_type": "execute_result"
    }
   ],
   "source": [
    "py_list"
   ]
  },
  {
   "cell_type": "code",
   "execution_count": 9,
   "id": "0744591f",
   "metadata": {},
   "outputs": [
    {
     "data": {
      "text/plain": [
       "[5, 5, 10, 15, 15, 25, 'appleappleappleappleapple']"
      ]
     },
     "execution_count": 9,
     "metadata": {},
     "output_type": "execute_result"
    }
   ],
   "source": [
    "# operations can be done with loops\n",
    "[i*5 for i in py_list]"
   ]
  },
  {
   "cell_type": "code",
   "execution_count": 10,
   "id": "787b55fe",
   "metadata": {},
   "outputs": [
    {
     "data": {
      "text/plain": [
       "array([ 5,  5, 10, 15, 15])"
      ]
     },
     "execution_count": 10,
     "metadata": {},
     "output_type": "execute_result"
    }
   ],
   "source": [
    "# operations in arrays are more efficient\n",
    "np_array * 5"
   ]
  },
  {
   "cell_type": "code",
   "execution_count": 11,
   "id": "dd6de46e",
   "metadata": {},
   "outputs": [],
   "source": [
    "integers = np.array([10,20,30,40,50])"
   ]
  },
  {
   "cell_type": "code",
   "execution_count": 12,
   "id": "a33a84fa",
   "metadata": {},
   "outputs": [
    {
     "name": "stdout",
     "output_type": "stream",
     "text": [
      "[10 20 30 40 50]\n"
     ]
    }
   ],
   "source": [
    "print(integers)"
   ]
  },
  {
   "cell_type": "code",
   "execution_count": 13,
   "id": "7570d539",
   "metadata": {},
   "outputs": [
    {
     "data": {
      "text/plain": [
       "10"
      ]
     },
     "execution_count": 13,
     "metadata": {},
     "output_type": "execute_result"
    }
   ],
   "source": [
    "integers[0]"
   ]
  },
  {
   "cell_type": "code",
   "execution_count": 14,
   "id": "ab42eaef",
   "metadata": {},
   "outputs": [
    {
     "data": {
      "text/plain": [
       "5"
      ]
     },
     "execution_count": 14,
     "metadata": {},
     "output_type": "execute_result"
    }
   ],
   "source": [
    "integers.size"
   ]
  },
  {
   "cell_type": "code",
   "execution_count": 15,
   "id": "07a23d8e",
   "metadata": {},
   "outputs": [],
   "source": [
    "integers[0]=20"
   ]
  },
  {
   "cell_type": "code",
   "execution_count": 16,
   "id": "bb3159fa",
   "metadata": {},
   "outputs": [
    {
     "name": "stdout",
     "output_type": "stream",
     "text": [
      "[20 20 30 40 50]\n"
     ]
    }
   ],
   "source": [
    "print(integers)"
   ]
  },
  {
   "cell_type": "code",
   "execution_count": 17,
   "id": "fea06f6e",
   "metadata": {},
   "outputs": [],
   "source": [
    "integers[0]=21.5"
   ]
  },
  {
   "cell_type": "code",
   "execution_count": 18,
   "id": "7a4d7388",
   "metadata": {},
   "outputs": [
    {
     "name": "stdout",
     "output_type": "stream",
     "text": [
      "[21 20 30 40 50]\n"
     ]
    }
   ],
   "source": [
    "# Arrays include only same type of elements\n",
    "print(integers)"
   ]
  },
  {
   "cell_type": "markdown",
   "id": "dd407f0e",
   "metadata": {},
   "source": [
    "## This example is showing how changing the data type can significantly reduce the memory used by a NumPy Array"
   ]
  },
  {
   "cell_type": "code",
   "execution_count": 19,
   "id": "55286eee",
   "metadata": {},
   "outputs": [
    {
     "data": {
      "text/plain": [
       "dtype('int32')"
      ]
     },
     "execution_count": 19,
     "metadata": {},
     "output_type": "execute_result"
    }
   ],
   "source": [
    "integers.dtype"
   ]
  },
  {
   "cell_type": "code",
   "execution_count": 20,
   "id": "1a01b48c",
   "metadata": {},
   "outputs": [
    {
     "data": {
      "text/plain": [
       "array([21, 20, 30, 40, 50], dtype=int8)"
      ]
     },
     "execution_count": 20,
     "metadata": {},
     "output_type": "execute_result"
    }
   ],
   "source": [
    "smallerIntegers = np.array(integers, dtype=np.int8)\n",
    "smallerIntegers"
   ]
  },
  {
   "cell_type": "code",
   "execution_count": 21,
   "id": "6cbe0574",
   "metadata": {},
   "outputs": [
    {
     "data": {
      "text/plain": [
       "20"
      ]
     },
     "execution_count": 21,
     "metadata": {},
     "output_type": "execute_result"
    }
   ],
   "source": [
    "integers.nbytes"
   ]
  },
  {
   "cell_type": "code",
   "execution_count": 22,
   "id": "29302960",
   "metadata": {},
   "outputs": [
    {
     "data": {
      "text/plain": [
       "5"
      ]
     },
     "execution_count": 22,
     "metadata": {},
     "output_type": "execute_result"
    }
   ],
   "source": [
    "smallerIntegers.nbytes"
   ]
  },
  {
   "cell_type": "markdown",
   "id": "bc3612d0",
   "metadata": {},
   "source": [
    "## Multidimensional Arrays"
   ]
  },
  {
   "cell_type": "code",
   "execution_count": 24,
   "id": "35c472e5",
   "metadata": {},
   "outputs": [],
   "source": [
    "#this is a two-dimensional array, a matrix\n",
    "nums = np.array([[1,2,3,4,5],[6,7,8,9,10]])"
   ]
  },
  {
   "cell_type": "code",
   "execution_count": 25,
   "id": "eb844da7",
   "metadata": {},
   "outputs": [
    {
     "data": {
      "text/plain": [
       "array([[ 1,  2,  3,  4,  5],\n",
       "       [ 6,  7,  8,  9, 10]])"
      ]
     },
     "execution_count": 25,
     "metadata": {},
     "output_type": "execute_result"
    }
   ],
   "source": [
    "nums"
   ]
  },
  {
   "cell_type": "code",
   "execution_count": 26,
   "id": "3458716e",
   "metadata": {},
   "outputs": [
    {
     "data": {
      "text/plain": [
       "1"
      ]
     },
     "execution_count": 26,
     "metadata": {},
     "output_type": "execute_result"
    }
   ],
   "source": [
    "nums[0,0]"
   ]
  },
  {
   "cell_type": "code",
   "execution_count": 27,
   "id": "47dc758c",
   "metadata": {},
   "outputs": [
    {
     "data": {
      "text/plain": [
       "2"
      ]
     },
     "execution_count": 27,
     "metadata": {},
     "output_type": "execute_result"
    }
   ],
   "source": [
    "nums.ndim"
   ]
  },
  {
   "cell_type": "code",
   "execution_count": 28,
   "id": "4b8ed5e7",
   "metadata": {},
   "outputs": [],
   "source": [
    "#this is a three-dimensional array, a tensor\n",
    "multi_arr = np.array([[[1,2,3],[4,5,6]],[[7,8,9],[10,11,12]]])"
   ]
  },
  {
   "cell_type": "code",
   "execution_count": 29,
   "id": "f53e68b4",
   "metadata": {},
   "outputs": [
    {
     "data": {
      "text/plain": [
       "array([[[ 1,  2,  3],\n",
       "        [ 4,  5,  6]],\n",
       "\n",
       "       [[ 7,  8,  9],\n",
       "        [10, 11, 12]]])"
      ]
     },
     "execution_count": 29,
     "metadata": {},
     "output_type": "execute_result"
    }
   ],
   "source": [
    "multi_arr"
   ]
  },
  {
   "cell_type": "code",
   "execution_count": 30,
   "id": "3d522fb2",
   "metadata": {},
   "outputs": [
    {
     "data": {
      "text/plain": [
       "3"
      ]
     },
     "execution_count": 30,
     "metadata": {},
     "output_type": "execute_result"
    }
   ],
   "source": [
    "multi_arr.ndim"
   ]
  },
  {
   "cell_type": "markdown",
   "id": "71b4f2e7",
   "metadata": {},
   "source": [
    "## Creating arrays from lists and other Python structures"
   ]
  },
  {
   "cell_type": "code",
   "execution_count": 31,
   "id": "89777621",
   "metadata": {},
   "outputs": [],
   "source": [
    "first_list = [1,2,3,4,5,6,7,8,9,10]"
   ]
  },
  {
   "cell_type": "code",
   "execution_count": 32,
   "id": "6185b968",
   "metadata": {},
   "outputs": [
    {
     "data": {
      "text/plain": [
       "[1, 2, 3, 4, 5, 6, 7, 8, 9, 10]"
      ]
     },
     "execution_count": 32,
     "metadata": {},
     "output_type": "execute_result"
    }
   ],
   "source": [
    "first_list"
   ]
  },
  {
   "cell_type": "code",
   "execution_count": 33,
   "id": "7d24ca94",
   "metadata": {},
   "outputs": [],
   "source": [
    "first_array = np.array(first_list)"
   ]
  },
  {
   "cell_type": "code",
   "execution_count": 34,
   "id": "f4f2639d",
   "metadata": {},
   "outputs": [
    {
     "data": {
      "text/plain": [
       "array([ 1,  2,  3,  4,  5,  6,  7,  8,  9, 10])"
      ]
     },
     "execution_count": 34,
     "metadata": {},
     "output_type": "execute_result"
    }
   ],
   "source": [
    "first_array"
   ]
  },
  {
   "cell_type": "code",
   "execution_count": 35,
   "id": "fe5281e4",
   "metadata": {},
   "outputs": [],
   "source": [
    "second_list = [10,5, -20, 5, 6, 9, -111.6]"
   ]
  },
  {
   "cell_type": "code",
   "execution_count": 36,
   "id": "c39eb55f",
   "metadata": {},
   "outputs": [],
   "source": [
    "second_array = np.array(second_list)"
   ]
  },
  {
   "cell_type": "code",
   "execution_count": 37,
   "id": "c5d73173",
   "metadata": {},
   "outputs": [
    {
     "data": {
      "text/plain": [
       "array([  10. ,    5. ,  -20. ,    5. ,    6. ,    9. , -111.6])"
      ]
     },
     "execution_count": 37,
     "metadata": {},
     "output_type": "execute_result"
    }
   ],
   "source": [
    "second_array"
   ]
  },
  {
   "cell_type": "code",
   "execution_count": 38,
   "id": "9030a82e",
   "metadata": {},
   "outputs": [
    {
     "data": {
      "text/plain": [
       "dtype('float64')"
      ]
     },
     "execution_count": 38,
     "metadata": {},
     "output_type": "execute_result"
    }
   ],
   "source": [
    "second_array.dtype"
   ]
  },
  {
   "cell_type": "code",
   "execution_count": 39,
   "id": "353237c0",
   "metadata": {},
   "outputs": [],
   "source": [
    "third_list = ['Anna',12121, 'John', 51212, 'Daist', 56454]"
   ]
  },
  {
   "cell_type": "code",
   "execution_count": 41,
   "id": "0078ba43",
   "metadata": {},
   "outputs": [],
   "source": [
    "third_array = np.array(third_list)"
   ]
  },
  {
   "cell_type": "code",
   "execution_count": 42,
   "id": "f1bd6812",
   "metadata": {},
   "outputs": [
    {
     "data": {
      "text/plain": [
       "array(['Anna', '12121', 'John', '51212', 'Daist', '56454'], dtype='<U11')"
      ]
     },
     "execution_count": 42,
     "metadata": {},
     "output_type": "execute_result"
    }
   ],
   "source": [
    "third_array"
   ]
  },
  {
   "cell_type": "code",
   "execution_count": 43,
   "id": "c1e34573",
   "metadata": {},
   "outputs": [],
   "source": [
    "first_tuple = (5, 10, 15, 20, 25, 30)"
   ]
  },
  {
   "cell_type": "code",
   "execution_count": 44,
   "id": "58e27778",
   "metadata": {},
   "outputs": [],
   "source": [
    "array_from_tuple = np.array(first_tuple)"
   ]
  },
  {
   "cell_type": "code",
   "execution_count": 45,
   "id": "bebb5335",
   "metadata": {},
   "outputs": [
    {
     "data": {
      "text/plain": [
       "array([ 5, 10, 15, 20, 25, 30])"
      ]
     },
     "execution_count": 45,
     "metadata": {},
     "output_type": "execute_result"
    }
   ],
   "source": [
    "array_from_tuple"
   ]
  },
  {
   "cell_type": "code",
   "execution_count": 47,
   "id": "63e7e133",
   "metadata": {},
   "outputs": [],
   "source": [
    "multi_dim_list = [[[[0,1,2],[3,4,5]],[[6,7,8],[9,10,11]]]]"
   ]
  },
  {
   "cell_type": "code",
   "execution_count": 48,
   "id": "a514327b",
   "metadata": {},
   "outputs": [],
   "source": [
    "arr_from_multi_dim_list = np.array(multi_dim_list)"
   ]
  },
  {
   "cell_type": "code",
   "execution_count": 49,
   "id": "29376900",
   "metadata": {},
   "outputs": [
    {
     "data": {
      "text/plain": [
       "array([[[[ 0,  1,  2],\n",
       "         [ 3,  4,  5]],\n",
       "\n",
       "        [[ 6,  7,  8],\n",
       "         [ 9, 10, 11]]]])"
      ]
     },
     "execution_count": 49,
     "metadata": {},
     "output_type": "execute_result"
    }
   ],
   "source": [
    "arr_from_multi_dim_list"
   ]
  },
  {
   "cell_type": "markdown",
   "id": "46d39a70",
   "metadata": {},
   "source": [
    "## Intrisic NumPy Array Creation"
   ]
  },
  {
   "cell_type": "code",
   "execution_count": 56,
   "id": "322ddfe7",
   "metadata": {},
   "outputs": [],
   "source": [
    "# np.arange(): Creates an array with a sequence of numbers, similar to Python’s built-in range() but returns a NumPy array."
   ]
  },
  {
   "cell_type": "code",
   "execution_count": 51,
   "id": "b8cb98b2",
   "metadata": {},
   "outputs": [],
   "source": [
    "integers_array = np.arange(10)"
   ]
  },
  {
   "cell_type": "code",
   "execution_count": 52,
   "id": "fb64ef0b",
   "metadata": {},
   "outputs": [
    {
     "data": {
      "text/plain": [
       "array([0, 1, 2, 3, 4, 5, 6, 7, 8, 9])"
      ]
     },
     "execution_count": 52,
     "metadata": {},
     "output_type": "execute_result"
    }
   ],
   "source": [
    "integers_array"
   ]
  },
  {
   "cell_type": "code",
   "execution_count": 54,
   "id": "64cec15b",
   "metadata": {},
   "outputs": [],
   "source": [
    "integers_second_array = np.arange(100,130)"
   ]
  },
  {
   "cell_type": "code",
   "execution_count": 55,
   "id": "28a4f464",
   "metadata": {},
   "outputs": [
    {
     "data": {
      "text/plain": [
       "array([100, 101, 102, 103, 104, 105, 106, 107, 108, 109, 110, 111, 112,\n",
       "       113, 114, 115, 116, 117, 118, 119, 120, 121, 122, 123, 124, 125,\n",
       "       126, 127, 128, 129])"
      ]
     },
     "execution_count": 55,
     "metadata": {},
     "output_type": "execute_result"
    }
   ],
   "source": [
    "integers_second_array"
   ]
  },
  {
   "cell_type": "markdown",
   "id": "6d24e30c",
   "metadata": {},
   "source": [
    "## Creating Arrays with Constant Values"
   ]
  },
  {
   "cell_type": "code",
   "execution_count": null,
   "id": "cf35ce24",
   "metadata": {},
   "outputs": [],
   "source": []
  }
 ],
 "metadata": {
  "kernelspec": {
   "display_name": "Python 3 (ipykernel)",
   "language": "python",
   "name": "python3"
  },
  "language_info": {
   "codemirror_mode": {
    "name": "ipython",
    "version": 3
   },
   "file_extension": ".py",
   "mimetype": "text/x-python",
   "name": "python",
   "nbconvert_exporter": "python",
   "pygments_lexer": "ipython3",
   "version": "3.9.18"
  }
 },
 "nbformat": 4,
 "nbformat_minor": 5
}
